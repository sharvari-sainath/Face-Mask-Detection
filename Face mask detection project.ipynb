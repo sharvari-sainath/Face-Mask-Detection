{
 "cells": [
  {
   "cell_type": "code",
   "execution_count": 1,
   "id": "a9c372aa",
   "metadata": {},
   "outputs": [
    {
     "name": "stdout",
     "output_type": "stream",
     "text": [
      "Requirement already satisfied: tensorflow in c:\\users\\shubham kulkarni\\anaconda3\\lib\\site-packages (2.18.0)\n",
      "Requirement already satisfied: opencv-python in c:\\users\\shubham kulkarni\\anaconda3\\lib\\site-packages (4.11.0.86)\n",
      "Requirement already satisfied: flask-ngrok in c:\\users\\shubham kulkarni\\anaconda3\\lib\\site-packages (0.0.25)\n",
      "Requirement already satisfied: numpy in c:\\users\\shubham kulkarni\\anaconda3\\lib\\site-packages (1.26.4)\n",
      "Requirement already satisfied: tensorflow-intel==2.18.0 in c:\\users\\shubham kulkarni\\anaconda3\\lib\\site-packages (from tensorflow) (2.18.0)\n",
      "Requirement already satisfied: absl-py>=1.0.0 in c:\\users\\shubham kulkarni\\anaconda3\\lib\\site-packages (from tensorflow-intel==2.18.0->tensorflow) (2.1.0)\n",
      "Requirement already satisfied: astunparse>=1.6.0 in c:\\users\\shubham kulkarni\\anaconda3\\lib\\site-packages (from tensorflow-intel==2.18.0->tensorflow) (1.6.3)\n",
      "Requirement already satisfied: flatbuffers>=24.3.25 in c:\\users\\shubham kulkarni\\anaconda3\\lib\\site-packages (from tensorflow-intel==2.18.0->tensorflow) (24.3.25)\n",
      "Requirement already satisfied: gast!=0.5.0,!=0.5.1,!=0.5.2,>=0.2.1 in c:\\users\\shubham kulkarni\\anaconda3\\lib\\site-packages (from tensorflow-intel==2.18.0->tensorflow) (0.6.0)\n",
      "Requirement already satisfied: google-pasta>=0.1.1 in c:\\users\\shubham kulkarni\\anaconda3\\lib\\site-packages (from tensorflow-intel==2.18.0->tensorflow) (0.2.0)\n",
      "Requirement already satisfied: libclang>=13.0.0 in c:\\users\\shubham kulkarni\\anaconda3\\lib\\site-packages (from tensorflow-intel==2.18.0->tensorflow) (18.1.1)\n",
      "Requirement already satisfied: opt-einsum>=2.3.2 in c:\\users\\shubham kulkarni\\anaconda3\\lib\\site-packages (from tensorflow-intel==2.18.0->tensorflow) (3.4.0)\n",
      "Requirement already satisfied: packaging in c:\\users\\shubham kulkarni\\anaconda3\\lib\\site-packages (from tensorflow-intel==2.18.0->tensorflow) (23.2)\n",
      "Requirement already satisfied: protobuf!=4.21.0,!=4.21.1,!=4.21.2,!=4.21.3,!=4.21.4,!=4.21.5,<6.0.0dev,>=3.20.3 in c:\\users\\shubham kulkarni\\anaconda3\\lib\\site-packages (from tensorflow-intel==2.18.0->tensorflow) (5.28.3)\n",
      "Requirement already satisfied: requests<3,>=2.21.0 in c:\\users\\shubham kulkarni\\anaconda3\\lib\\site-packages (from tensorflow-intel==2.18.0->tensorflow) (2.31.0)\n",
      "Requirement already satisfied: setuptools in c:\\users\\shubham kulkarni\\anaconda3\\lib\\site-packages (from tensorflow-intel==2.18.0->tensorflow) (68.0.0)\n",
      "Requirement already satisfied: six>=1.12.0 in c:\\users\\shubham kulkarni\\anaconda3\\lib\\site-packages (from tensorflow-intel==2.18.0->tensorflow) (1.16.0)\n",
      "Requirement already satisfied: termcolor>=1.1.0 in c:\\users\\shubham kulkarni\\anaconda3\\lib\\site-packages (from tensorflow-intel==2.18.0->tensorflow) (2.5.0)\n",
      "Requirement already satisfied: typing-extensions>=3.6.6 in c:\\users\\shubham kulkarni\\anaconda3\\lib\\site-packages (from tensorflow-intel==2.18.0->tensorflow) (4.12.2)\n",
      "Requirement already satisfied: wrapt>=1.11.0 in c:\\users\\shubham kulkarni\\anaconda3\\lib\\site-packages (from tensorflow-intel==2.18.0->tensorflow) (1.14.1)\n",
      "Requirement already satisfied: grpcio<2.0,>=1.24.3 in c:\\users\\shubham kulkarni\\anaconda3\\lib\\site-packages (from tensorflow-intel==2.18.0->tensorflow) (1.67.1)\n",
      "Requirement already satisfied: tensorboard<2.19,>=2.18 in c:\\users\\shubham kulkarni\\anaconda3\\lib\\site-packages (from tensorflow-intel==2.18.0->tensorflow) (2.18.0)\n",
      "Requirement already satisfied: keras>=3.5.0 in c:\\users\\shubham kulkarni\\anaconda3\\lib\\site-packages (from tensorflow-intel==2.18.0->tensorflow) (3.6.0)\n",
      "Requirement already satisfied: h5py>=3.11.0 in c:\\users\\shubham kulkarni\\anaconda3\\lib\\site-packages (from tensorflow-intel==2.18.0->tensorflow) (3.12.1)\n",
      "Requirement already satisfied: ml-dtypes<0.5.0,>=0.4.0 in c:\\users\\shubham kulkarni\\anaconda3\\lib\\site-packages (from tensorflow-intel==2.18.0->tensorflow) (0.4.1)\n",
      "Requirement already satisfied: tensorflow-io-gcs-filesystem>=0.23.1 in c:\\users\\shubham kulkarni\\anaconda3\\lib\\site-packages (from tensorflow-intel==2.18.0->tensorflow) (0.31.0)\n",
      "Requirement already satisfied: Flask>=0.8 in c:\\users\\shubham kulkarni\\anaconda3\\lib\\site-packages (from flask-ngrok) (2.2.2)\n",
      "Requirement already satisfied: Werkzeug>=2.2.2 in c:\\users\\shubham kulkarni\\anaconda3\\lib\\site-packages (from Flask>=0.8->flask-ngrok) (2.2.3)\n",
      "Requirement already satisfied: Jinja2>=3.0 in c:\\users\\shubham kulkarni\\anaconda3\\lib\\site-packages (from Flask>=0.8->flask-ngrok) (3.1.2)\n",
      "Requirement already satisfied: itsdangerous>=2.0 in c:\\users\\shubham kulkarni\\anaconda3\\lib\\site-packages (from Flask>=0.8->flask-ngrok) (2.0.1)\n",
      "Requirement already satisfied: click>=8.0 in c:\\users\\shubham kulkarni\\anaconda3\\lib\\site-packages (from Flask>=0.8->flask-ngrok) (8.0.4)\n",
      "Requirement already satisfied: charset-normalizer<4,>=2 in c:\\users\\shubham kulkarni\\anaconda3\\lib\\site-packages (from requests<3,>=2.21.0->tensorflow-intel==2.18.0->tensorflow) (2.0.4)\n",
      "Requirement already satisfied: idna<4,>=2.5 in c:\\users\\shubham kulkarni\\anaconda3\\lib\\site-packages (from requests<3,>=2.21.0->tensorflow-intel==2.18.0->tensorflow) (3.4)\n",
      "Requirement already satisfied: urllib3<3,>=1.21.1 in c:\\users\\shubham kulkarni\\anaconda3\\lib\\site-packages (from requests<3,>=2.21.0->tensorflow-intel==2.18.0->tensorflow) (1.26.16)\n",
      "Requirement already satisfied: certifi>=2017.4.17 in c:\\users\\shubham kulkarni\\anaconda3\\lib\\site-packages (from requests<3,>=2.21.0->tensorflow-intel==2.18.0->tensorflow) (2023.7.22)\n",
      "Requirement already satisfied: wheel<1.0,>=0.23.0 in c:\\users\\shubham kulkarni\\anaconda3\\lib\\site-packages (from astunparse>=1.6.0->tensorflow-intel==2.18.0->tensorflow) (0.38.4)\n",
      "Requirement already satisfied: colorama in c:\\users\\shubham kulkarni\\anaconda3\\lib\\site-packages (from click>=8.0->Flask>=0.8->flask-ngrok) (0.4.6)\n",
      "Requirement already satisfied: MarkupSafe>=2.0 in c:\\users\\shubham kulkarni\\anaconda3\\lib\\site-packages (from Jinja2>=3.0->Flask>=0.8->flask-ngrok) (2.1.1)\n",
      "Requirement already satisfied: rich in c:\\users\\shubham kulkarni\\anaconda3\\lib\\site-packages (from keras>=3.5.0->tensorflow-intel==2.18.0->tensorflow) (13.9.2)\n",
      "Requirement already satisfied: namex in c:\\users\\shubham kulkarni\\anaconda3\\lib\\site-packages (from keras>=3.5.0->tensorflow-intel==2.18.0->tensorflow) (0.0.8)\n",
      "Requirement already satisfied: optree in c:\\users\\shubham kulkarni\\anaconda3\\lib\\site-packages (from keras>=3.5.0->tensorflow-intel==2.18.0->tensorflow) (0.13.0)\n",
      "Requirement already satisfied: markdown>=2.6.8 in c:\\users\\shubham kulkarni\\anaconda3\\lib\\site-packages (from tensorboard<2.19,>=2.18->tensorflow-intel==2.18.0->tensorflow) (3.4.1)\n",
      "Requirement already satisfied: tensorboard-data-server<0.8.0,>=0.7.0 in c:\\users\\shubham kulkarni\\anaconda3\\lib\\site-packages (from tensorboard<2.19,>=2.18->tensorflow-intel==2.18.0->tensorflow) (0.7.2)\n",
      "Requirement already satisfied: markdown-it-py>=2.2.0 in c:\\users\\shubham kulkarni\\anaconda3\\lib\\site-packages (from rich->keras>=3.5.0->tensorflow-intel==2.18.0->tensorflow) (2.2.0)\n",
      "Requirement already satisfied: pygments<3.0.0,>=2.13.0 in c:\\users\\shubham kulkarni\\anaconda3\\lib\\site-packages (from rich->keras>=3.5.0->tensorflow-intel==2.18.0->tensorflow) (2.15.1)\n",
      "Requirement already satisfied: mdurl~=0.1 in c:\\users\\shubham kulkarni\\anaconda3\\lib\\site-packages (from markdown-it-py>=2.2.0->rich->keras>=3.5.0->tensorflow-intel==2.18.0->tensorflow) (0.1.0)\n"
     ]
    }
   ],
   "source": [
    "!pip install tensorflow opencv-python flask-ngrok numpy\n"
   ]
  },
  {
   "cell_type": "code",
   "execution_count": 2,
   "id": "4bac537f",
   "metadata": {},
   "outputs": [
    {
     "name": "stderr",
     "output_type": "stream",
     "text": [
      "C:\\Users\\Shubham Kulkarni\\anaconda3\\Lib\\site-packages\\pandas\\core\\arrays\\masked.py:60: UserWarning: Pandas requires version '1.3.6' or newer of 'bottleneck' (version '1.3.5' currently installed).\n",
      "  from pandas.core import (\n"
     ]
    }
   ],
   "source": [
    "import os\n",
    "import cv2\n",
    "import numpy as np\n",
    "import tensorflow as tf\n",
    "from flask import Flask, render_template, Response\n",
    "from flask_ngrok import run_with_ngrok  # To run Flask in Colab/Jupyter\n",
    "from IPython.display import display, Javascript\n"
   ]
  },
  {
   "cell_type": "code",
   "execution_count": 3,
   "id": "1b32fdf0",
   "metadata": {},
   "outputs": [
    {
     "name": "stderr",
     "output_type": "stream",
     "text": [
      "WARNING:absl:Compiled the loaded model, but the compiled metrics have yet to be built. `model.compile_metrics` will be empty until you train or evaluate the model.\n"
     ]
    }
   ],
   "source": [
    "# Load Haar Cascade face detector\n",
    "face_cascade = cv2.CascadeClassifier(cv2.data.haarcascades + \"haarcascade_frontalface_default.xml\")\n",
    "\n",
    "# Load trained face mask detection model\n",
    "mask_model = tf.keras.models.load_model(\"face_mask_detector.h5\")\n"
   ]
  },
  {
   "cell_type": "code",
   "execution_count": 4,
   "id": "5e95d076",
   "metadata": {},
   "outputs": [],
   "source": [
    "def detect_mask(frame):\n",
    "    gray = cv2.cvtColor(frame, cv2.COLOR_BGR2GRAY)\n",
    "    faces = face_cascade.detectMultiScale(gray, 1.3, 5)\n",
    "    \n",
    "    for (x, y, w, h) in faces:\n",
    "        face = frame[y:y+h, x:x+w]\n",
    "        face = cv2.resize(face, (224, 224))\n",
    "        face = np.expand_dims(face, axis=0) / 255.0  # Normalize\n",
    "        \n",
    "        prediction = mask_model.predict(face)[0][0]\n",
    "        \n",
    "        # Calculate confidence percentage\n",
    "        mask_confidence = (1 - prediction) * 100  # Higher % means wearing a mask\n",
    "        no_mask_confidence = prediction * 100     # Higher % means no mask\n",
    "        \n",
    "        if mask_confidence > no_mask_confidence:\n",
    "            label = f\"Mask: {mask_confidence:.1f}%\"\n",
    "            color = (0, 255, 0)  # Green for Mask\n",
    "        else:\n",
    "            label = f\"No Mask: {no_mask_confidence:.1f}%\"\n",
    "            color = (0, 0, 255)  # Red for No Mask\n",
    "\n",
    "        # Add a semi-transparent background for text\n",
    "        overlay = frame.copy()\n",
    "        cv2.rectangle(frame, (x, y), (x+w, y+h), color, 2)\n",
    "        cv2.rectangle(overlay, (x, y-40), (x+w, y), color, -1)\n",
    "        alpha = 0.5  # Transparency factor\n",
    "        cv2.addWeighted(overlay, alpha, frame, 1 - alpha, 0, frame)\n",
    "\n",
    "        # Add text with a modern font\n",
    "        cv2.putText(frame, label, (x + 10, y - 10), cv2.FONT_HERSHEY_SIMPLEX, 0.8, (255, 255, 255), 2)\n",
    "\n",
    "    return frame\n"
   ]
  },
  {
   "cell_type": "code",
   "execution_count": null,
   "id": "5caf51b2",
   "metadata": {},
   "outputs": [],
   "source": [
    "cap = cv2.VideoCapture(0)\n",
    "\n",
    "while True:\n",
    "    ret, frame = cap.read()\n",
    "    if not ret:\n",
    "        break\n",
    "\n",
    "    frame = detect_mask(frame)\n",
    "\n",
    "    cv2.imshow(\"Face Mask Detection\", frame)\n",
    "    \n",
    "    if cv2.waitKey(1) & 0xFF == ord('q'):\n",
    "        break\n",
    "\n",
    "cap.release()\n",
    "cv2.destroyAllWindows()\n",
    "\n"
   ]
  },
  {
   "cell_type": "code",
   "execution_count": null,
   "id": "58015abf",
   "metadata": {},
   "outputs": [],
   "source": [
    "app = Flask(__name__)\n",
    "run_with_ngrok(app)\n",
    "\n",
    "@app.route('/')\n",
    "def index():\n",
    "    return '''\n",
    "    <html>\n",
    "    <head>\n",
    "        <title>Face Mask Detection</title>\n",
    "        <style>\n",
    "            body {\n",
    "                background: url(\"https://source.unsplash.com/1600x900/?technology,security\") no-repeat center center;\n",
    "                background-size: cover;\n",
    "                color: white;\n",
    "                text-align: center;\n",
    "                font-family: Arial, sans-serif;\n",
    "            }\n",
    "            .container {\n",
    "                margin-top: 10%;\n",
    "                background: rgba(0, 0, 0, 0.7);\n",
    "                padding: 20px;\n",
    "                border-radius: 10px;\n",
    "                display: inline-block;\n",
    "            }\n",
    "            .video-container {\n",
    "                border: 5px solid white;\n",
    "                border-radius: 10px;\n",
    "                overflow: hidden;\n",
    "            }\n",
    "        </style>\n",
    "    </head>\n",
    "    <body>\n",
    "        <div class=\"container\">\n",
    "            <h1>Face Mask Detection System</h1>\n",
    "            <div class=\"video-container\">\n",
    "                <img src=\"/video_feed\" width=\"100%\">\n",
    "            </div>\n",
    "            <p>Live face mask detection with confidence percentage.</p>\n",
    "        </div>\n",
    "    </body>\n",
    "    </html>\n",
    "    '''\n",
    "\n",
    "@app.route('/video_feed')\n",
    "def video_feed():\n",
    "    def generate_frames():\n",
    "        cap = cv2.VideoCapture(0)\n",
    "        while True:\n",
    "            success, frame = cap.read()\n",
    "            if not success:\n",
    "                break\n",
    "            else:\n",
    "                frame = detect_mask(frame)\n",
    "                _, buffer = cv2.imencode('.jpg', frame)\n",
    "                frame = buffer.tobytes()\n",
    "                yield (b'--frame\\r\\n' b'Content-Type: image/jpeg\\r\\n\\r\\n' + frame + b'\\r\\n')\n",
    "        cap.release()\n",
    "    \n",
    "    return Response(generate_frames(), mimetype='multipart/x-mixed-replace; boundary=frame')\n",
    "\n",
    "if __name__ == \"__main__\":\n",
    "    app.run()\n"
   ]
  }
 ],
 "metadata": {
  "kernelspec": {
   "display_name": "Python 3 (ipykernel)",
   "language": "python",
   "name": "python3"
  },
  "language_info": {
   "codemirror_mode": {
    "name": "ipython",
    "version": 3
   },
   "file_extension": ".py",
   "mimetype": "text/x-python",
   "name": "python",
   "nbconvert_exporter": "python",
   "pygments_lexer": "ipython3",
   "version": "3.11.5"
  }
 },
 "nbformat": 4,
 "nbformat_minor": 5
}
